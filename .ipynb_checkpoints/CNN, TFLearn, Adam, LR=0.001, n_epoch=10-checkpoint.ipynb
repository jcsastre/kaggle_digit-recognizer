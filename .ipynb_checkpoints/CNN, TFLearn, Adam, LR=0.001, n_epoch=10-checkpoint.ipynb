{
 "cells": [
  {
   "cell_type": "code",
   "execution_count": 47,
   "metadata": {
    "collapsed": true,
    "deletable": true,
    "editable": true
   },
   "outputs": [],
   "source": [
    "import pandas as pd\n",
    "from sklearn.model_selection import train_test_split\n",
    "import matplotlib.pyplot as plt\n",
    "%matplotlib inline\n",
    "import tensorflow as tf\n",
    "import tflearn\n",
    "from tflearn.layers.core import input_data, dropout, fully_connected\n",
    "from tflearn.layers.conv import conv_2d, max_pool_2d\n",
    "from tflearn.layers.normalization import local_response_normalization\n",
    "from tflearn.layers.estimator import regression\n",
    "from tflearn.data_utils import shuffle, to_categorical\n",
    "import numpy as np"
   ]
  },
  {
   "cell_type": "code",
   "execution_count": 2,
   "metadata": {
    "collapsed": false,
    "deletable": true,
    "editable": true
   },
   "outputs": [
    {
     "data": {
      "text/plain": [
       "(42000, 785)"
      ]
     },
     "execution_count": 2,
     "metadata": {},
     "output_type": "execute_result"
    }
   ],
   "source": [
    "# Load kaggle train data\n",
    "train = pd.read_csv('./input/train.csv')\n",
    "train.shape"
   ]
  },
  {
   "cell_type": "code",
   "execution_count": 14,
   "metadata": {
    "collapsed": false
   },
   "outputs": [
    {
     "data": {
      "text/plain": [
       "pandas.core.frame.DataFrame"
      ]
     },
     "execution_count": 14,
     "metadata": {},
     "output_type": "execute_result"
    }
   ],
   "source": [
    "type(train)"
   ]
  },
  {
   "cell_type": "code",
   "execution_count": 3,
   "metadata": {
    "collapsed": false,
    "deletable": true,
    "editable": true
   },
   "outputs": [
    {
     "name": "stdout",
     "output_type": "stream",
     "text": [
      "(42000, 784)\n",
      "(42000,)\n"
     ]
    }
   ],
   "source": [
    "# extract X, y kaggle train data\n",
    "X, Y = train.drop('label', axis=1).values, train['label'].values\n",
    "\n",
    "print X.shape\n",
    "print Y.shape"
   ]
  },
  {
   "cell_type": "code",
   "execution_count": 15,
   "metadata": {
    "collapsed": false
   },
   "outputs": [
    {
     "data": {
      "text/plain": [
       "numpy.ndarray"
      ]
     },
     "execution_count": 15,
     "metadata": {},
     "output_type": "execute_result"
    }
   ],
   "source": [
    "type(X)"
   ]
  },
  {
   "cell_type": "code",
   "execution_count": 4,
   "metadata": {
    "collapsed": false,
    "deletable": true,
    "editable": true
   },
   "outputs": [
    {
     "name": "stdout",
     "output_type": "stream",
     "text": [
      "X shape: (35700, 784)\n",
      "X_test shape: (6300, 784)\n",
      "Y shape: (35700,)\n",
      "Y_test shape: (6300,)\n"
     ]
    }
   ],
   "source": [
    "X, X_test, Y, Y_test = train_test_split(\n",
    "    X,\n",
    "    Y,\n",
    "    test_size=0.15,\n",
    "    random_state=42,\n",
    "    stratify=train[train.columns[0]].values, # to preserve initial class balance\n",
    ")\n",
    "\n",
    "print \"X shape:\", X.shape\n",
    "print \"X_test shape:\", X_test.shape\n",
    "print \"Y shape:\", Y.shape\n",
    "print \"Y_test shape:\", Y_test.shape"
   ]
  },
  {
   "cell_type": "code",
   "execution_count": 5,
   "metadata": {
    "collapsed": false,
    "deletable": true,
    "editable": true
   },
   "outputs": [
    {
     "name": "stdout",
     "output_type": "stream",
     "text": [
      "X shape: (35700, 28, 28, 1)\n",
      "X_test shape: (6300, 28, 28, 1)\n",
      "Y shape: (35700, 10)\n",
      "Y_test shape: (6300, 10)\n"
     ]
    }
   ],
   "source": [
    "X = X.reshape([-1, 28, 28, 1])\n",
    "X_test = X_test.reshape([-1, 28, 28, 1])\n",
    "Y = to_categorical(Y, 10)\n",
    "Y_test = to_categorical(Y_test, 10)\n",
    "\n",
    "print \"X shape:\", X.shape\n",
    "print \"X_test shape:\", X_test.shape\n",
    "print \"Y shape:\", Y.shape\n",
    "print \"Y_test shape:\", Y_test.shape"
   ]
  },
  {
   "cell_type": "markdown",
   "metadata": {},
   "source": [
    "## Train"
   ]
  },
  {
   "cell_type": "code",
   "execution_count": 6,
   "metadata": {
    "collapsed": false,
    "deletable": true,
    "editable": true
   },
   "outputs": [
    {
     "name": "stdout",
     "output_type": "stream",
     "text": [
      "Training Step: 5579  | total loss: \u001b[1m\u001b[32m0.01445\u001b[0m\u001b[0m | time: 26.399s\n",
      "| Adam | epoch: 010 | loss: 0.01445 - acc: 0.9969 -- iter: 35648/35700\n",
      "Training Step: 5580  | total loss: \u001b[1m\u001b[32m0.01445\u001b[0m\u001b[0m | time: 27.497s\n",
      "| Adam | epoch: 010 | loss: 0.01445 - acc: 0.9969 | val_loss: 0.05126 - val_acc: 0.9848 -- iter: 35700/35700\n",
      "--\n"
     ]
    }
   ],
   "source": [
    "OPTIMIZER = 'Adam'\n",
    "LEARNING_RATE = 0.0001\n",
    "N_EPOCH = 10\n",
    "\n",
    "RUN_ID = 'Train Adam, 0.0001, n10'\n",
    "\n",
    "network = input_data(shape=[None, 28, 28, 1], name='input')\n",
    "\n",
    "network = conv_2d(network, 32, 3, activation='relu', regularizer=\"L2\")\n",
    "network = max_pool_2d(network, 2)\n",
    "network = local_response_normalization(network)\n",
    "\n",
    "network = conv_2d(network, 64, 3, activation='relu', regularizer=\"L2\")\n",
    "network = max_pool_2d(network, 2)\n",
    "network = local_response_normalization(network)\n",
    "\n",
    "network = fully_connected(network, 128, activation='tanh')\n",
    "network = dropout(network, 0.8)\n",
    "\n",
    "network = fully_connected(network, 256, activation='tanh')\n",
    "network = dropout(network, 0.8)\n",
    "\n",
    "network = fully_connected(network, 10, activation='softmax')\n",
    "\n",
    "network = regression(\n",
    "    network, \n",
    "    optimizer=OPTIMIZER, \n",
    "    learning_rate=LEARNING_RATE, \n",
    "    loss='categorical_crossentropy', \n",
    "    name='target'\n",
    ")\n",
    "\n",
    "model = tflearn.DNN(network, tensorboard_verbose=3)\n",
    "model.fit(\n",
    "    {'input': X}, {'target': Y},\n",
    "    n_epoch=N_EPOCH,\n",
    "    validation_set=({'input': X_test}, {'target': Y_test}),\n",
    "    snapshot_step=100, \n",
    "    show_metric=True,\n",
    "    run_id=RUN_ID\n",
    ")"
   ]
  },
  {
   "cell_type": "markdown",
   "metadata": {
    "collapsed": true,
    "deletable": true,
    "editable": true
   },
   "source": [
    "## Predict"
   ]
  },
  {
   "cell_type": "code",
   "execution_count": 65,
   "metadata": {
    "collapsed": false
   },
   "outputs": [
    {
     "name": "stdout",
     "output_type": "stream",
     "text": [
      "(28000, 784)\n"
     ]
    }
   ],
   "source": [
    "X_submission = pd.read_csv('./input/test.csv').values\n",
    "\n",
    "print X_submission.shape"
   ]
  },
  {
   "cell_type": "code",
   "execution_count": 93,
   "metadata": {
    "collapsed": false
   },
   "outputs": [
    {
     "data": {
      "text/plain": [
       "<matplotlib.image.AxesImage at 0x7fcc8e720d50>"
      ]
     },
     "execution_count": 93,
     "metadata": {},
     "output_type": "execute_result"
    },
    {
     "data": {
      "image/png": "[encoded data removed]",
      "text/plain": [
       "<matplotlib.figure.Figure at 0x7fcc7b719050>"
      ]
     },
     "metadata": {},
     "output_type": "display_data"
    }
   ],
   "source": [
    "plt.imshow(X_submission[0].reshape(28, 28), cmap=plt.get_cmap('gray'))"
   ]
  },
  {
   "cell_type": "code",
   "execution_count": 94,
   "metadata": {
    "collapsed": false
   },
   "outputs": [
    {
     "data": {
      "text/plain": [
       "<matplotlib.image.AxesImage at 0x7fcc782881d0>"
      ]
     },
     "execution_count": 94,
     "metadata": {},
     "output_type": "execute_result"
    },
    {
     "data": {
      "image/png": "[encoded data removed]",
      "text/plain": [
       "<matplotlib.figure.Figure at 0x7fcc94654f10>"
      ]
     },
     "metadata": {},
     "output_type": "display_data"
    }
   ],
   "source": [
    "plt.imshow(X_submission[1].reshape(28, 28), cmap=plt.get_cmap('gray'))"
   ]
  },
  {
   "cell_type": "code",
   "execution_count": 95,
   "metadata": {
    "collapsed": false
   },
   "outputs": [
    {
     "data": {
      "text/plain": [
       "<matplotlib.image.AxesImage at 0x7fcc78510f10>"
      ]
     },
     "execution_count": 95,
     "metadata": {},
     "output_type": "execute_result"
    },
    {
     "data": {
      "image/png": "[encoded data removed]",
      "text/plain": [
       "<matplotlib.figure.Figure at 0x7fcc781f8210>"
      ]
     },
     "metadata": {},
     "output_type": "display_data"
    }
   ],
   "source": [
    "plt.imshow(X_submission[2].reshape(28, 28), cmap=plt.get_cmap('gray'))"
   ]
  },
  {
   "cell_type": "code",
   "execution_count": 96,
   "metadata": {
    "collapsed": false
   },
   "outputs": [
    {
     "data": {
      "text/plain": [
       "<matplotlib.image.AxesImage at 0x7fcc7841f110>"
      ]
     },
     "execution_count": 96,
     "metadata": {},
     "output_type": "execute_result"
    },
    {
     "data": {
      "image/png": "[encoded data removed]",
      "text/plain": [
       "<matplotlib.figure.Figure at 0x7fcc78532e90>"
      ]
     },
     "metadata": {},
     "output_type": "display_data"
    }
   ],
   "source": [
    "plt.imshow(X_submission[3].reshape(28, 28), cmap=plt.get_cmap('gray'))"
   ]
  },
  {
   "cell_type": "code",
   "execution_count": 97,
   "metadata": {
    "collapsed": false
   },
   "outputs": [
    {
     "data": {
      "text/plain": [
       "<matplotlib.image.AxesImage at 0x7fcc7831e490>"
      ]
     },
     "execution_count": 97,
     "metadata": {},
     "output_type": "execute_result"
    },
    {
     "data": {
      "image/png": "[encoded data removed]",
      "text/plain": [
       "<matplotlib.figure.Figure at 0x7fcc78415910>"
      ]
     },
     "metadata": {},
     "output_type": "display_data"
    }
   ],
   "source": [
    "plt.imshow(X_submission[4].reshape(28, 28), cmap=plt.get_cmap('gray'))"
   ]
  },
  {
   "cell_type": "code",
   "execution_count": 67,
   "metadata": {
    "collapsed": false
   },
   "outputs": [
    {
     "name": "stdout",
     "output_type": "stream",
     "text": [
      "(28000, 28, 28, 1)\n"
     ]
    }
   ],
   "source": [
    "X_submission = X_submission.reshape([-1, 28, 28, 1])\n",
    "\n",
    "print X_submission.shape"
   ]
  },
  {
   "cell_type": "code",
   "execution_count": 98,
   "metadata": {
    "collapsed": false
   },
   "outputs": [
    {
     "name": "stdout",
     "output_type": "stream",
     "text": [
      "[5 9 6 7 4 1 0 3 8 2]\n",
      "[6 2 1 5 0 8 3 7 4 9]\n",
      "[4 6 0 8 1 9 2 7 5 3]\n",
      "[6 8 5 1 4 2 3 0 9 7]\n",
      "[6 1 2 0 5 7 3 8 4 9]\n"
     ]
    }
   ],
   "source": [
    "Y_predict_label = model.predict_label(X_submission)\n",
    "print Y_predict_label[0]\n",
    "print Y_predict_label[1]\n",
    "print Y_predict_label[2]\n",
    "print Y_predict_label[3]\n",
    "print Y_predict_label[4]"
   ]
  },
  {
   "cell_type": "code",
   "execution_count": 100,
   "metadata": {
    "collapsed": false
   },
   "outputs": [
    {
     "name": "stdout",
     "output_type": "stream",
     "text": [
      "2\n",
      "0\n",
      "9\n",
      "9\n",
      "3\n"
     ]
    }
   ],
   "source": [
    "Y_predict = model.predict(X_submission)\n",
    "Y_predict = np.argmax(Y_predict,axis=1)\n",
    "print Y_predict[0]\n",
    "print Y_predict[1]\n",
    "print Y_predict[2]\n",
    "print Y_predict[3]\n",
    "print Y_predict[4]"
   ]
  },
  {
   "cell_type": "code",
   "execution_count": 102,
   "metadata": {
    "collapsed": false
   },
   "outputs": [],
   "source": [
    "submission=pd.DataFrame({\"ImageId\": list(range(1,len(Y_predict)+1)), \"Label\": Y_predict})\n",
    "submission.to_csv(\"./submissions/submission_ccn_tflearn_lr_0_001_nepoch_10.csv\", index=False, header=True)"
   ]
  },
  {
   "cell_type": "code",
   "execution_count": null,
   "metadata": {
    "collapsed": true
   },
   "outputs": [],
   "source": []
  }
 ],
 "metadata": {
  "kernelspec": {
   "display_name": "Python 2",
   "language": "python",
   "name": "python2"
  },
  "language_info": {
   "codemirror_mode": {
    "name": "ipython",
    "version": 2
   },
   "file_extension": ".py",
   "mimetype": "text/x-python",
   "name": "python",
   "nbconvert_exporter": "python",
   "pygments_lexer": "ipython2",
   "version": "2.7.12"
  }
 },
 "nbformat": 4,
 "nbformat_minor": 2
}
