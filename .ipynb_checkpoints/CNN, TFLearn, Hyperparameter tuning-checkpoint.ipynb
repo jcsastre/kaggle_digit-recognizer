{
 "cells": [
  {
   "cell_type": "code",
   "execution_count": 1,
   "metadata": {
    "collapsed": true
   },
   "outputs": [],
   "source": [
    "import pandas as pd\n",
    "from sklearn.model_selection import train_test_split\n",
    "import matplotlib.pyplot as plt\n",
    "%matplotlib inline\n",
    "import tensorflow as tf\n",
    "import tflearn\n",
    "from tflearn.layers.core import input_data, dropout, fully_connected\n",
    "from tflearn.layers.conv import conv_2d, max_pool_2d\n",
    "from tflearn.layers.normalization import local_response_normalization\n",
    "from tflearn.layers.estimator import regression\n",
    "from tflearn.data_utils import shuffle, to_categorical"
   ]
  },
  {
   "cell_type": "code",
   "execution_count": 2,
   "metadata": {
    "collapsed": false
   },
   "outputs": [
    {
     "data": {
      "text/plain": [
       "(42000, 785)"
      ]
     },
     "execution_count": 2,
     "metadata": {},
     "output_type": "execute_result"
    }
   ],
   "source": [
    "# Load kaggle train data\n",
    "train = pd.read_csv('./input/train.csv')\n",
    "train.shape"
   ]
  },
  {
   "cell_type": "code",
   "execution_count": 6,
   "metadata": {
    "collapsed": false
   },
   "outputs": [
    {
     "name": "stdout",
     "output_type": "stream",
     "text": [
      "(42000, 784)\n",
      "(42000,)\n"
     ]
    }
   ],
   "source": [
    "# extract X, y kaggle train data\n",
    "X, Y = train.drop('label', axis=1).values, train['label'].values\n",
    "\n",
    "print X.shape\n",
    "print Y.shape"
   ]
  },
  {
   "cell_type": "code",
   "execution_count": 7,
   "metadata": {
    "collapsed": false
   },
   "outputs": [
    {
     "name": "stdout",
     "output_type": "stream",
     "text": [
      "X shape: (35700, 784)\n",
      "X_test shape: (6300, 784)\n",
      "Y shape: (35700,)\n",
      "Y_test shape: (6300,)\n"
     ]
    }
   ],
   "source": [
    "X, X_test, Y, Y_test = train_test_split(\n",
    "    X,\n",
    "    Y,\n",
    "    test_size=0.15,\n",
    "    random_state=42,\n",
    "    stratify=train[train.columns[0]].values, # to preserve initial class balance\n",
    ")\n",
    "\n",
    "print \"X shape:\", X.shape\n",
    "print \"X_test shape:\", X_test.shape\n",
    "print \"Y shape:\", Y.shape\n",
    "print \"Y_test shape:\", Y_test.shape"
   ]
  },
  {
   "cell_type": "code",
   "execution_count": 8,
   "metadata": {
    "collapsed": false
   },
   "outputs": [
    {
     "name": "stdout",
     "output_type": "stream",
     "text": [
      "X shape: (35700, 28, 28, 1)\n",
      "X_test shape: (6300, 28, 28, 1)\n",
      "Y shape: (35700, 10)\n",
      "Y_test shape: (6300, 10)\n"
     ]
    }
   ],
   "source": [
    "X = X.reshape([-1, 28, 28, 1])\n",
    "X_test = X_test.reshape([-1, 28, 28, 1])\n",
    "Y = to_categorical(Y, 10)\n",
    "Y_test = to_categorical(Y_test, 10)\n",
    "\n",
    "print \"X shape:\", X.shape\n",
    "print \"X_test shape:\", X_test.shape\n",
    "print \"Y shape:\", Y.shape\n",
    "print \"Y_test shape:\", Y_test.shape"
   ]
  },
  {
   "cell_type": "code",
   "execution_count": 10,
   "metadata": {
    "collapsed": false
   },
   "outputs": [
    {
     "name": "stdout",
     "output_type": "stream",
     "text": [
      "Training Step: 2789  | total loss: \u001b[1m\u001b[32m0.17794\u001b[0m\u001b[0m | time: 24.251s\n",
      "| Adam | epoch: 005 | loss: 0.17794 - acc: 0.9578 -- iter: 35648/35700\n",
      "Training Step: 2790  | total loss: \u001b[1m\u001b[32m0.17137\u001b[0m\u001b[0m | time: 25.335s\n",
      "| Adam | epoch: 005 | loss: 0.17137 - acc: 0.9589 | val_loss: 0.08114 - val_acc: 0.9737 -- iter: 35700/35700\n",
      "--\n"
     ]
    }
   ],
   "source": [
    "# for optimizer in ['SGD', 'Adam']:\n",
    "#     for learning_rate in [0.01, 0.001]:\n",
    "#         for n_epoch in [5]:\n",
    "for optimizer in ['SGD', 'Adam']:\n",
    "    for learning_rate in [0.1, 0.0001]:\n",
    "        for n_epoch in [5, 10]:\n",
    "            \n",
    "            run_id = optimizer + ', ' + str(learning_rate) + \", n\" + str(n_epoch)\n",
    "            \n",
    "            tf.reset_default_graph()\n",
    "\n",
    "            network = input_data(shape=[None, 28, 28, 1], name='input')\n",
    "            \n",
    "            network = conv_2d(network, 32, 3, activation='relu', regularizer=\"L2\")\n",
    "            network = max_pool_2d(network, 2)\n",
    "            network = local_response_normalization(network)\n",
    "\n",
    "            network = conv_2d(network, 64, 3, activation='relu', regularizer=\"L2\")\n",
    "            network = max_pool_2d(network, 2)\n",
    "            network = local_response_normalization(network)\n",
    "\n",
    "            network = fully_connected(network, 128, activation='tanh')\n",
    "            network = dropout(network, 0.8)\n",
    "\n",
    "            network = fully_connected(network, 256, activation='tanh')\n",
    "            network = dropout(network, 0.8)\n",
    "\n",
    "            network = fully_connected(network, 10, activation='softmax')\n",
    "\n",
    "            network = regression(\n",
    "                network, \n",
    "                optimizer=optimizer, \n",
    "                learning_rate=learning_rate, \n",
    "                loss='categorical_crossentropy', \n",
    "                name='target'\n",
    "            )\n",
    "            \n",
    "            model = tflearn.DNN(network, tensorboard_verbose=3)\n",
    "            model.fit(\n",
    "                {'input': X}, {'target': Y},\n",
    "                n_epoch=n_epoch,\n",
    "                validation_set=({'input': X_test}, {'target': Y_test}),\n",
    "                snapshot_step=100, \n",
    "                show_metric=True, \n",
    "                run_id=run_id\n",
    "            )    "
   ]
  },
  {
   "cell_type": "code",
   "execution_count": null,
   "metadata": {
    "collapsed": true
   },
   "outputs": [],
   "source": []
  }
 ],
 "metadata": {
  "kernelspec": {
   "display_name": "Python 2",
   "language": "python",
   "name": "python2"
  },
  "language_info": {
   "codemirror_mode": {
    "name": "ipython",
    "version": 2
   },
   "file_extension": ".py",
   "mimetype": "text/x-python",
   "name": "python",
   "nbconvert_exporter": "python",
   "pygments_lexer": "ipython2",
   "version": "2.7.12"
  }
 },
 "nbformat": 4,
 "nbformat_minor": 2
}
