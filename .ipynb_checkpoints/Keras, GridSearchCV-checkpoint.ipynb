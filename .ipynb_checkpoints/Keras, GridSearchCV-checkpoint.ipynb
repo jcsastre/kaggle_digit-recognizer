{
 "cells": [
  {
   "cell_type": "markdown",
   "metadata": {
    "deletable": true,
    "editable": true
   },
   "source": [
    "# Keras, GridSearchCV"
   ]
  },
  {
   "cell_type": "code",
   "execution_count": 1,
   "metadata": {
    "collapsed": false,
    "deletable": true,
    "editable": true
   },
   "outputs": [
    {
     "name": "stderr",
     "output_type": "stream",
     "text": [
      "Using TensorFlow backend.\n"
     ]
    }
   ],
   "source": [
    "import numpy as np\n",
    "import pandas as pd\n",
    "import matplotlib.pyplot as plt\n",
    "%matplotlib inline\n",
    "import tensorflow as tf\n",
    "\n",
    "from keras.models import Sequential\n",
    "from keras.layers import Dense , Dropout\n",
    "from keras.optimizers import RMSprop\n",
    "\n",
    "from keras.wrappers.scikit_learn import KerasClassifier\n",
    "from sklearn.model_selection import GridSearchCV"
   ]
  },
  {
   "cell_type": "markdown",
   "metadata": {
    "collapsed": true,
    "deletable": true,
    "editable": true
   },
   "source": [
    "## Data load & transform"
   ]
  },
  {
   "cell_type": "code",
   "execution_count": 2,
   "metadata": {
    "collapsed": false,
    "deletable": true,
    "editable": true
   },
   "outputs": [
    {
     "name": "stdout",
     "output_type": "stream",
     "text": [
      "train shape: (42000, 785)\n"
     ]
    }
   ],
   "source": [
    "train = (pd.read_csv('./input/train.csv')).astype('float32')\n",
    "print \"train shape:\", train.shape"
   ]
  },
  {
   "cell_type": "code",
   "execution_count": 3,
   "metadata": {
    "collapsed": false,
    "deletable": true,
    "editable": true
   },
   "outputs": [
    {
     "name": "stdout",
     "output_type": "stream",
     "text": [
      "X shape: (42000, 784)\n",
      "Y shape: (42000,)\n"
     ]
    }
   ],
   "source": [
    "X, Y = train.drop('label', axis=1).values, train['label'].values\n",
    "\n",
    "print \"X shape:\", X.shape\n",
    "print \"Y shape:\", Y.shape"
   ]
  },
  {
   "cell_type": "code",
   "execution_count": 4,
   "metadata": {
    "collapsed": false,
    "deletable": true,
    "editable": true
   },
   "outputs": [
    {
     "name": "stdout",
     "output_type": "stream",
     "text": [
      "X shape: (5000, 784)\n",
      "Y shape: (5000,)\n"
     ]
    }
   ],
   "source": [
    "# Reduce datapoints\n",
    "X = X[:5000,:]\n",
    "Y = Y[:5000]\n",
    "\n",
    "print \"X shape:\", X.shape\n",
    "print \"Y shape:\", Y.shape"
   ]
  },
  {
   "cell_type": "code",
   "execution_count": 5,
   "metadata": {
    "collapsed": true,
    "deletable": true,
    "editable": true
   },
   "outputs": [],
   "source": [
    "# Normalization\n",
    "X = X / 255"
   ]
  },
  {
   "cell_type": "code",
   "execution_count": 6,
   "metadata": {
    "collapsed": false,
    "deletable": true,
    "editable": true
   },
   "outputs": [
    {
     "name": "stdout",
     "output_type": "stream",
     "text": [
      "Y shape: (5000, 10)\n"
     ]
    }
   ],
   "source": [
    "from keras.utils.np_utils import to_categorical\n",
    "Y = to_categorical(Y, 10)\n",
    "\n",
    "print \"Y shape:\", Y.shape"
   ]
  },
  {
   "cell_type": "markdown",
   "metadata": {
    "deletable": true,
    "editable": true
   },
   "source": [
    "## NN"
   ]
  },
  {
   "cell_type": "code",
   "execution_count": 7,
   "metadata": {
    "collapsed": true,
    "deletable": true,
    "editable": true
   },
   "outputs": [],
   "source": [
    "# fix random seed for reproducibility\n",
    "seed = 9\n",
    "np.random.seed(seed)"
   ]
  },
  {
   "cell_type": "code",
   "execution_count": 8,
   "metadata": {
    "collapsed": false,
    "deletable": true,
    "editable": true
   },
   "outputs": [],
   "source": [
    "def create_model(optimizer='adam'):\n",
    "    \n",
    "    # create model\n",
    "    model = Sequential()\n",
    "    model.add(Dense(64, activation='relu', input_dim=(28 * 28)))\n",
    "    model.add(Dense(128, activation='relu'))\n",
    "    model.add(Dropout(0.15))\n",
    "    model.add(Dense(64, activation='relu'))\n",
    "    model.add(Dropout(0.15))\n",
    "    model.add(Dense(10, activation='softmax'))\n",
    "    \n",
    "    # Compile model\n",
    "    model.compile(\n",
    "        optimizer = optimizer,\n",
    "        loss = 'categorical_crossentropy',\n",
    "        metrics = ['accuracy']\n",
    "    )    \n",
    "\n",
    "    return model"
   ]
  },
  {
   "cell_type": "code",
   "execution_count": 9,
   "metadata": {
    "collapsed": false,
    "deletable": true,
    "editable": true
   },
   "outputs": [],
   "source": [
    "# create model\n",
    "keras_classifier = KerasClassifier(\n",
    "    build_fn = create_model, \n",
    "    verbose = 0\n",
    ")"
   ]
  },
  {
   "cell_type": "code",
   "execution_count": 10,
   "metadata": {
    "collapsed": false,
    "deletable": true,
    "editable": true
   },
   "outputs": [],
   "source": [
    "grid = GridSearchCV(\n",
    "    estimator = keras_classifier, \n",
    "    param_grid = dict(\n",
    "#         epochs = [5, 10, 15],\n",
    "#         batch_size = [5, 10, 20],\n",
    "#         optimizer = ['SGD', 'RMSprop', 'Adagrad', 'Adadelta', 'Adam', 'Adamax', 'Nadam']\n",
    "        epochs = [5, 15],\n",
    "        batch_size = [10, 20],\n",
    "#         optimizer = ['SGD', 'Adagrad', 'Adam', 'Nadam']\n",
    "        optimizer = ['RMSprop', 'Adadelta', 'Adamax']\n",
    "    ),\n",
    "    cv = 10,\n",
    "    n_jobs=1, \n",
    "    verbose=2\n",
    ")"
   ]
  },
  {
   "cell_type": "code",
   "execution_count": 11,
   "metadata": {
    "collapsed": false,
    "deletable": true,
    "editable": true
   },
   "outputs": [
    {
     "name": "stdout",
     "output_type": "stream",
     "text": [
      "Fitting 10 folds for each of 12 candidates, totalling 120 fits\n",
      "[CV] epochs=5, optimizer=RMSprop, batch_size=10 ......................\n",
      "[CV] ....... epochs=5, optimizer=RMSprop, batch_size=10, total=   5.0s\n",
      "[CV] epochs=5, optimizer=RMSprop, batch_size=10 ......................\n"
     ]
    },
    {
     "name": "stderr",
     "output_type": "stream",
     "text": [
      "[Parallel(n_jobs=1)]: Done   1 out of   1 | elapsed:    5.2s remaining:    0.0s\n"
     ]
    },
    {
     "name": "stdout",
     "output_type": "stream",
     "text": [
      "[CV] ....... epochs=5, optimizer=RMSprop, batch_size=10, total=   4.8s\n",
      "[CV] epochs=5, optimizer=RMSprop, batch_size=10 ......................\n",
      "[CV] ....... epochs=5, optimizer=RMSprop, batch_size=10, total=   4.7s\n",
      "[CV] epochs=5, optimizer=RMSprop, batch_size=10 ......................\n",
      "[CV] ....... epochs=5, optimizer=RMSprop, batch_size=10, total=   5.5s\n",
      "[CV] epochs=5, optimizer=RMSprop, batch_size=10 ......................\n",
      "[CV] ....... epochs=5, optimizer=RMSprop, batch_size=10, total=   6.0s\n",
      "[CV] epochs=5, optimizer=RMSprop, batch_size=10 ......................\n",
      "[CV] ....... epochs=5, optimizer=RMSprop, batch_size=10, total=   5.6s\n",
      "[CV] epochs=5, optimizer=RMSprop, batch_size=10 ......................\n",
      "[CV] ....... epochs=5, optimizer=RMSprop, batch_size=10, total=   5.0s\n",
      "[CV] epochs=5, optimizer=RMSprop, batch_size=10 ......................\n",
      "[CV] ....... epochs=5, optimizer=RMSprop, batch_size=10, total=   5.0s\n",
      "[CV] epochs=5, optimizer=RMSprop, batch_size=10 ......................\n",
      "[CV] ....... epochs=5, optimizer=RMSprop, batch_size=10, total=   5.2s\n",
      "[CV] epochs=5, optimizer=RMSprop, batch_size=10 ......................\n",
      "[CV] ....... epochs=5, optimizer=RMSprop, batch_size=10, total=   4.9s\n",
      "[CV] epochs=5, optimizer=Adadelta, batch_size=10 .....................\n",
      "[CV] ...... epochs=5, optimizer=Adadelta, batch_size=10, total=   6.0s\n",
      "[CV] epochs=5, optimizer=Adadelta, batch_size=10 .....................\n",
      "[CV] ...... epochs=5, optimizer=Adadelta, batch_size=10, total=   6.0s\n",
      "[CV] epochs=5, optimizer=Adadelta, batch_size=10 .....................\n",
      "[CV] ...... epochs=5, optimizer=Adadelta, batch_size=10, total=   5.7s\n",
      "[CV] epochs=5, optimizer=Adadelta, batch_size=10 .....................\n",
      "[CV] ...... epochs=5, optimizer=Adadelta, batch_size=10, total=   6.6s\n",
      "[CV] epochs=5, optimizer=Adadelta, batch_size=10 .....................\n",
      "[CV] ...... epochs=5, optimizer=Adadelta, batch_size=10, total=   6.2s\n",
      "[CV] epochs=5, optimizer=Adadelta, batch_size=10 .....................\n",
      "[CV] ...... epochs=5, optimizer=Adadelta, batch_size=10, total=   6.1s\n",
      "[CV] epochs=5, optimizer=Adadelta, batch_size=10 .....................\n",
      "[CV] ...... epochs=5, optimizer=Adadelta, batch_size=10, total=   6.1s\n",
      "[CV] epochs=5, optimizer=Adadelta, batch_size=10 .....................\n",
      "[CV] ...... epochs=5, optimizer=Adadelta, batch_size=10, total=   6.8s\n",
      "[CV] epochs=5, optimizer=Adadelta, batch_size=10 .....................\n",
      "[CV] ...... epochs=5, optimizer=Adadelta, batch_size=10, total=   6.6s\n",
      "[CV] epochs=5, optimizer=Adadelta, batch_size=10 .....................\n",
      "[CV] ...... epochs=5, optimizer=Adadelta, batch_size=10, total=   6.3s\n",
      "[CV] epochs=5, optimizer=Adamax, batch_size=10 .......................\n",
      "[CV] ........ epochs=5, optimizer=Adamax, batch_size=10, total=   5.3s\n",
      "[CV] epochs=5, optimizer=Adamax, batch_size=10 .......................\n",
      "[CV] ........ epochs=5, optimizer=Adamax, batch_size=10, total=   5.7s\n",
      "[CV] epochs=5, optimizer=Adamax, batch_size=10 .......................\n",
      "[CV] ........ epochs=5, optimizer=Adamax, batch_size=10, total=   5.9s\n",
      "[CV] epochs=5, optimizer=Adamax, batch_size=10 .......................\n",
      "[CV] ........ epochs=5, optimizer=Adamax, batch_size=10, total=   6.0s\n",
      "[CV] epochs=5, optimizer=Adamax, batch_size=10 .......................\n",
      "[CV] ........ epochs=5, optimizer=Adamax, batch_size=10, total=   5.9s\n",
      "[CV] epochs=5, optimizer=Adamax, batch_size=10 .......................\n",
      "[CV] ........ epochs=5, optimizer=Adamax, batch_size=10, total=   6.0s\n",
      "[CV] epochs=5, optimizer=Adamax, batch_size=10 .......................\n",
      "[CV] ........ epochs=5, optimizer=Adamax, batch_size=10, total=   6.9s\n",
      "[CV] epochs=5, optimizer=Adamax, batch_size=10 .......................\n",
      "[CV] ........ epochs=5, optimizer=Adamax, batch_size=10, total=   6.4s\n",
      "[CV] epochs=5, optimizer=Adamax, batch_size=10 .......................\n",
      "[CV] ........ epochs=5, optimizer=Adamax, batch_size=10, total=   5.8s\n",
      "[CV] epochs=5, optimizer=Adamax, batch_size=10 .......................\n",
      "[CV] ........ epochs=5, optimizer=Adamax, batch_size=10, total=   6.0s\n",
      "[CV] epochs=15, optimizer=RMSprop, batch_size=10 .....................\n",
      "[CV] ...... epochs=15, optimizer=RMSprop, batch_size=10, total=  16.2s\n",
      "[CV] epochs=15, optimizer=RMSprop, batch_size=10 .....................\n",
      "[CV] ...... epochs=15, optimizer=RMSprop, batch_size=10, total=  16.3s\n",
      "[CV] epochs=15, optimizer=RMSprop, batch_size=10 .....................\n",
      "[CV] ...... epochs=15, optimizer=RMSprop, batch_size=10, total=  16.3s\n",
      "[CV] epochs=15, optimizer=RMSprop, batch_size=10 .....................\n",
      "[CV] ...... epochs=15, optimizer=RMSprop, batch_size=10, total=  16.5s\n",
      "[CV] epochs=15, optimizer=RMSprop, batch_size=10 .....................\n",
      "[CV] ...... epochs=15, optimizer=RMSprop, batch_size=10, total=  16.1s\n",
      "[CV] epochs=15, optimizer=RMSprop, batch_size=10 .....................\n",
      "[CV] ...... epochs=15, optimizer=RMSprop, batch_size=10, total=  15.8s\n",
      "[CV] epochs=15, optimizer=RMSprop, batch_size=10 .....................\n",
      "[CV] ...... epochs=15, optimizer=RMSprop, batch_size=10, total=  15.5s\n",
      "[CV] epochs=15, optimizer=RMSprop, batch_size=10 .....................\n",
      "[CV] ...... epochs=15, optimizer=RMSprop, batch_size=10, total=  17.0s\n",
      "[CV] epochs=15, optimizer=RMSprop, batch_size=10 .....................\n",
      "[CV] ...... epochs=15, optimizer=RMSprop, batch_size=10, total=  15.2s\n",
      "[CV] epochs=15, optimizer=RMSprop, batch_size=10 .....................\n",
      "[CV] ...... epochs=15, optimizer=RMSprop, batch_size=10, total=  16.8s\n",
      "[CV] epochs=15, optimizer=Adadelta, batch_size=10 ....................\n",
      "[CV] ..... epochs=15, optimizer=Adadelta, batch_size=10, total=  18.6s\n",
      "[CV] epochs=15, optimizer=Adadelta, batch_size=10 ....................\n",
      "[CV] ..... epochs=15, optimizer=Adadelta, batch_size=10, total=  21.2s\n",
      "[CV] epochs=15, optimizer=Adadelta, batch_size=10 ....................\n",
      "[CV] ..... epochs=15, optimizer=Adadelta, batch_size=10, total=  19.8s\n",
      "[CV] epochs=15, optimizer=Adadelta, batch_size=10 ....................\n",
      "[CV] ..... epochs=15, optimizer=Adadelta, batch_size=10, total=  20.0s\n",
      "[CV] epochs=15, optimizer=Adadelta, batch_size=10 ....................\n",
      "[CV] ..... epochs=15, optimizer=Adadelta, batch_size=10, total=  22.3s\n",
      "[CV] epochs=15, optimizer=Adadelta, batch_size=10 ....................\n",
      "[CV] ..... epochs=15, optimizer=Adadelta, batch_size=10, total=  22.6s\n",
      "[CV] epochs=15, optimizer=Adadelta, batch_size=10 ....................\n",
      "[CV] ..... epochs=15, optimizer=Adadelta, batch_size=10, total=  21.4s\n",
      "[CV] epochs=15, optimizer=Adadelta, batch_size=10 ....................\n",
      "[CV] ..... epochs=15, optimizer=Adadelta, batch_size=10, total=  21.9s\n",
      "[CV] epochs=15, optimizer=Adadelta, batch_size=10 ....................\n",
      "[CV] ..... epochs=15, optimizer=Adadelta, batch_size=10, total=  20.8s\n",
      "[CV] epochs=15, optimizer=Adadelta, batch_size=10 ....................\n",
      "[CV] ..... epochs=15, optimizer=Adadelta, batch_size=10, total=  20.0s\n",
      "[CV] epochs=15, optimizer=Adamax, batch_size=10 ......................\n",
      "[CV] ....... epochs=15, optimizer=Adamax, batch_size=10, total=  17.1s\n",
      "[CV] epochs=15, optimizer=Adamax, batch_size=10 ......................\n",
      "[CV] ....... epochs=15, optimizer=Adamax, batch_size=10, total=  16.3s\n",
      "[CV] epochs=15, optimizer=Adamax, batch_size=10 ......................\n",
      "[CV] ....... epochs=15, optimizer=Adamax, batch_size=10, total=  16.5s\n",
      "[CV] epochs=15, optimizer=Adamax, batch_size=10 ......................\n",
      "[CV] ....... epochs=15, optimizer=Adamax, batch_size=10, total=  16.5s\n",
      "[CV] epochs=15, optimizer=Adamax, batch_size=10 ......................\n",
      "[CV] ....... epochs=15, optimizer=Adamax, batch_size=10, total=  16.6s\n",
      "[CV] epochs=15, optimizer=Adamax, batch_size=10 ......................\n",
      "[CV] ....... epochs=15, optimizer=Adamax, batch_size=10, total=  16.9s\n",
      "[CV] epochs=15, optimizer=Adamax, batch_size=10 ......................\n",
      "[CV] ....... epochs=15, optimizer=Adamax, batch_size=10, total=  17.3s\n",
      "[CV] epochs=15, optimizer=Adamax, batch_size=10 ......................\n",
      "[CV] ....... epochs=15, optimizer=Adamax, batch_size=10, total=  16.9s\n",
      "[CV] epochs=15, optimizer=Adamax, batch_size=10 ......................\n",
      "[CV] ....... epochs=15, optimizer=Adamax, batch_size=10, total=  17.2s\n",
      "[CV] epochs=15, optimizer=Adamax, batch_size=10 ......................\n",
      "[CV] ....... epochs=15, optimizer=Adamax, batch_size=10, total=  17.1s\n",
      "[CV] epochs=5, optimizer=RMSprop, batch_size=20 ......................\n",
      "[CV] ....... epochs=5, optimizer=RMSprop, batch_size=20, total=   4.4s\n",
      "[CV] epochs=5, optimizer=RMSprop, batch_size=20 ......................\n",
      "[CV] ....... epochs=5, optimizer=RMSprop, batch_size=20, total=   4.4s\n",
      "[CV] epochs=5, optimizer=RMSprop, batch_size=20 ......................\n",
      "[CV] ....... epochs=5, optimizer=RMSprop, batch_size=20, total=   4.4s\n",
      "[CV] epochs=5, optimizer=RMSprop, batch_size=20 ......................\n",
      "[CV] ....... epochs=5, optimizer=RMSprop, batch_size=20, total=   4.8s\n",
      "[CV] epochs=5, optimizer=RMSprop, batch_size=20 ......................\n",
      "[CV] ....... epochs=5, optimizer=RMSprop, batch_size=20, total=   4.5s\n",
      "[CV] epochs=5, optimizer=RMSprop, batch_size=20 ......................\n",
      "[CV] ....... epochs=5, optimizer=RMSprop, batch_size=20, total=   4.5s\n",
      "[CV] epochs=5, optimizer=RMSprop, batch_size=20 ......................\n",
      "[CV] ....... epochs=5, optimizer=RMSprop, batch_size=20, total=   4.6s\n",
      "[CV] epochs=5, optimizer=RMSprop, batch_size=20 ......................\n",
      "[CV] ....... epochs=5, optimizer=RMSprop, batch_size=20, total=   4.6s\n",
      "[CV] epochs=5, optimizer=RMSprop, batch_size=20 ......................\n",
      "[CV] ....... epochs=5, optimizer=RMSprop, batch_size=20, total=   4.6s\n",
      "[CV] epochs=5, optimizer=RMSprop, batch_size=20 ......................\n",
      "[CV] ....... epochs=5, optimizer=RMSprop, batch_size=20, total=   4.7s\n",
      "[CV] epochs=5, optimizer=Adadelta, batch_size=20 .....................\n",
      "[CV] ...... epochs=5, optimizer=Adadelta, batch_size=20, total=   5.1s\n",
      "[CV] epochs=5, optimizer=Adadelta, batch_size=20 .....................\n",
      "[CV] ...... epochs=5, optimizer=Adadelta, batch_size=20, total=   5.1s\n",
      "[CV] epochs=5, optimizer=Adadelta, batch_size=20 .....................\n",
      "[CV] ...... epochs=5, optimizer=Adadelta, batch_size=20, total=   5.2s\n",
      "[CV] epochs=5, optimizer=Adadelta, batch_size=20 .....................\n",
      "[CV] ...... epochs=5, optimizer=Adadelta, batch_size=20, total=   5.2s\n",
      "[CV] epochs=5, optimizer=Adadelta, batch_size=20 .....................\n",
      "[CV] ...... epochs=5, optimizer=Adadelta, batch_size=20, total=   5.2s\n",
      "[CV] epochs=5, optimizer=Adadelta, batch_size=20 .....................\n",
      "[CV] ...... epochs=5, optimizer=Adadelta, batch_size=20, total=   5.3s\n",
      "[CV] epochs=5, optimizer=Adadelta, batch_size=20 .....................\n",
      "[CV] ...... epochs=5, optimizer=Adadelta, batch_size=20, total=   5.3s\n",
      "[CV] epochs=5, optimizer=Adadelta, batch_size=20 .....................\n",
      "[CV] ...... epochs=5, optimizer=Adadelta, batch_size=20, total=   5.4s\n",
      "[CV] epochs=5, optimizer=Adadelta, batch_size=20 .....................\n",
      "[CV] ...... epochs=5, optimizer=Adadelta, batch_size=20, total=   5.8s\n",
      "[CV] epochs=5, optimizer=Adadelta, batch_size=20 .....................\n",
      "[CV] ...... epochs=5, optimizer=Adadelta, batch_size=20, total=   5.4s\n",
      "[CV] epochs=5, optimizer=Adamax, batch_size=20 .......................\n",
      "[CV] ........ epochs=5, optimizer=Adamax, batch_size=20, total=   5.2s\n",
      "[CV] epochs=5, optimizer=Adamax, batch_size=20 .......................\n",
      "[CV] ........ epochs=5, optimizer=Adamax, batch_size=20, total=   5.2s\n",
      "[CV] epochs=5, optimizer=Adamax, batch_size=20 .......................\n",
      "[CV] ........ epochs=5, optimizer=Adamax, batch_size=20, total=   5.3s\n",
      "[CV] epochs=5, optimizer=Adamax, batch_size=20 .......................\n",
      "[CV] ........ epochs=5, optimizer=Adamax, batch_size=20, total=   5.3s\n",
      "[CV] epochs=5, optimizer=Adamax, batch_size=20 .......................\n",
      "[CV] ........ epochs=5, optimizer=Adamax, batch_size=20, total=   5.4s\n",
      "[CV] epochs=5, optimizer=Adamax, batch_size=20 .......................\n",
      "[CV] ........ epochs=5, optimizer=Adamax, batch_size=20, total=   5.4s\n",
      "[CV] epochs=5, optimizer=Adamax, batch_size=20 .......................\n",
      "[CV] ........ epochs=5, optimizer=Adamax, batch_size=20, total=   5.6s\n",
      "[CV] epochs=5, optimizer=Adamax, batch_size=20 .......................\n",
      "[CV] ........ epochs=5, optimizer=Adamax, batch_size=20, total=   5.7s\n",
      "[CV] epochs=5, optimizer=Adamax, batch_size=20 .......................\n",
      "[CV] ........ epochs=5, optimizer=Adamax, batch_size=20, total=   5.6s\n",
      "[CV] epochs=5, optimizer=Adamax, batch_size=20 .......................\n",
      "[CV] ........ epochs=5, optimizer=Adamax, batch_size=20, total=   5.5s\n",
      "[CV] epochs=15, optimizer=RMSprop, batch_size=20 .....................\n",
      "[CV] ...... epochs=15, optimizer=RMSprop, batch_size=20, total=  11.3s\n",
      "[CV] epochs=15, optimizer=RMSprop, batch_size=20 .....................\n",
      "[CV] ...... epochs=15, optimizer=RMSprop, batch_size=20, total=  11.7s\n",
      "[CV] epochs=15, optimizer=RMSprop, batch_size=20 .....................\n",
      "[CV] ...... epochs=15, optimizer=RMSprop, batch_size=20, total=  11.3s\n",
      "[CV] epochs=15, optimizer=RMSprop, batch_size=20 .....................\n",
      "[CV] ...... epochs=15, optimizer=RMSprop, batch_size=20, total=  11.4s\n",
      "[CV] epochs=15, optimizer=RMSprop, batch_size=20 .....................\n",
      "[CV] ...... epochs=15, optimizer=RMSprop, batch_size=20, total=  11.5s\n",
      "[CV] epochs=15, optimizer=RMSprop, batch_size=20 .....................\n",
      "[CV] ...... epochs=15, optimizer=RMSprop, batch_size=20, total=  11.5s\n",
      "[CV] epochs=15, optimizer=RMSprop, batch_size=20 .....................\n",
      "[CV] ...... epochs=15, optimizer=RMSprop, batch_size=20, total=  11.6s\n",
      "[CV] epochs=15, optimizer=RMSprop, batch_size=20 .....................\n",
      "[CV] ...... epochs=15, optimizer=RMSprop, batch_size=20, total=  11.7s\n",
      "[CV] epochs=15, optimizer=RMSprop, batch_size=20 .....................\n",
      "[CV] ...... epochs=15, optimizer=RMSprop, batch_size=20, total=  11.7s\n",
      "[CV] epochs=15, optimizer=RMSprop, batch_size=20 .....................\n",
      "[CV] ...... epochs=15, optimizer=RMSprop, batch_size=20, total=  11.7s\n",
      "[CV] epochs=15, optimizer=Adadelta, batch_size=20 ....................\n",
      "[CV] ..... epochs=15, optimizer=Adadelta, batch_size=20, total=  13.7s\n",
      "[CV] epochs=15, optimizer=Adadelta, batch_size=20 ....................\n",
      "[CV] ..... epochs=15, optimizer=Adadelta, batch_size=20, total=  13.1s\n",
      "[CV] epochs=15, optimizer=Adadelta, batch_size=20 ....................\n",
      "[CV] ..... epochs=15, optimizer=Adadelta, batch_size=20, total=  13.2s\n",
      "[CV] epochs=15, optimizer=Adadelta, batch_size=20 ....................\n",
      "[CV] ..... epochs=15, optimizer=Adadelta, batch_size=20, total=  13.2s\n",
      "[CV] epochs=15, optimizer=Adadelta, batch_size=20 ....................\n",
      "[CV] ..... epochs=15, optimizer=Adadelta, batch_size=20, total=  13.3s\n",
      "[CV] epochs=15, optimizer=Adadelta, batch_size=20 ....................\n",
      "[CV] ..... epochs=15, optimizer=Adadelta, batch_size=20, total=  13.3s\n",
      "[CV] epochs=15, optimizer=Adadelta, batch_size=20 ....................\n",
      "[CV] ..... epochs=15, optimizer=Adadelta, batch_size=20, total=  13.4s\n",
      "[CV] epochs=15, optimizer=Adadelta, batch_size=20 ....................\n",
      "[CV] ..... epochs=15, optimizer=Adadelta, batch_size=20, total=  13.5s\n",
      "[CV] epochs=15, optimizer=Adadelta, batch_size=20 ....................\n",
      "[CV] ..... epochs=15, optimizer=Adadelta, batch_size=20, total=  13.8s\n",
      "[CV] epochs=15, optimizer=Adadelta, batch_size=20 ....................\n",
      "[CV] ..... epochs=15, optimizer=Adadelta, batch_size=20, total=  16.9s\n",
      "[CV] epochs=15, optimizer=Adamax, batch_size=20 ......................\n",
      "[CV] ....... epochs=15, optimizer=Adamax, batch_size=20, total=  13.8s\n",
      "[CV] epochs=15, optimizer=Adamax, batch_size=20 ......................\n",
      "[CV] ....... epochs=15, optimizer=Adamax, batch_size=20, total=  13.5s\n",
      "[CV] epochs=15, optimizer=Adamax, batch_size=20 ......................\n",
      "[CV] ....... epochs=15, optimizer=Adamax, batch_size=20, total=  14.5s\n",
      "[CV] epochs=15, optimizer=Adamax, batch_size=20 ......................\n",
      "[CV] ....... epochs=15, optimizer=Adamax, batch_size=20, total=  13.1s\n",
      "[CV] epochs=15, optimizer=Adamax, batch_size=20 ......................\n",
      "[CV] ....... epochs=15, optimizer=Adamax, batch_size=20, total=  12.6s\n",
      "[CV] epochs=15, optimizer=Adamax, batch_size=20 ......................\n",
      "[CV] ....... epochs=15, optimizer=Adamax, batch_size=20, total=  12.3s\n",
      "[CV] epochs=15, optimizer=Adamax, batch_size=20 ......................\n",
      "[CV] ....... epochs=15, optimizer=Adamax, batch_size=20, total=  12.6s\n",
      "[CV] epochs=15, optimizer=Adamax, batch_size=20 ......................\n",
      "[CV] ....... epochs=15, optimizer=Adamax, batch_size=20, total=  13.9s\n",
      "[CV] epochs=15, optimizer=Adamax, batch_size=20 ......................\n",
      "[CV] ....... epochs=15, optimizer=Adamax, batch_size=20, total=  19.2s\n",
      "[CV] epochs=15, optimizer=Adamax, batch_size=20 ......................\n",
      "[CV] ....... epochs=15, optimizer=Adamax, batch_size=20, total=  12.9s\n"
     ]
    },
    {
     "name": "stderr",
     "output_type": "stream",
     "text": [
      "[Parallel(n_jobs=1)]: Done 120 out of 120 | elapsed: 21.6min finished\n"
     ]
    },
    {
     "name": "stdout",
     "output_type": "stream",
     "text": [
      "Best: 0.944400 using {'epochs': 15, 'optimizer': 'RMSprop', 'batch_size': 10}\n",
      "0.930400 (0.011377) with: {'epochs': 5, 'optimizer': 'RMSprop', 'batch_size': 10}\n",
      "0.911000 (0.013921) with: {'epochs': 5, 'optimizer': 'Adadelta', 'batch_size': 10}\n",
      "0.921800 (0.009271) with: {'epochs': 5, 'optimizer': 'Adamax', 'batch_size': 10}\n",
      "0.944400 (0.008890) with: {'epochs': 15, 'optimizer': 'RMSprop', 'batch_size': 10}\n",
      "0.933800 (0.010898) with: {'epochs': 15, 'optimizer': 'Adadelta', 'batch_size': 10}\n",
      "0.941600 (0.011552) with: {'epochs': 15, 'optimizer': 'Adamax', 'batch_size': 10}\n",
      "0.928200 (0.012147) with: {'epochs': 5, 'optimizer': 'RMSprop', 'batch_size': 20}\n",
      "0.909600 (0.010500) with: {'epochs': 5, 'optimizer': 'Adadelta', 'batch_size': 20}\n",
      "0.920200 (0.010371) with: {'epochs': 5, 'optimizer': 'Adamax', 'batch_size': 20}\n",
      "0.937000 (0.010440) with: {'epochs': 15, 'optimizer': 'RMSprop', 'batch_size': 20}\n",
      "0.932600 (0.008857) with: {'epochs': 15, 'optimizer': 'Adadelta', 'batch_size': 20}\n",
      "0.940600 (0.010042) with: {'epochs': 15, 'optimizer': 'Adamax', 'batch_size': 20}\n"
     ]
    }
   ],
   "source": [
    "grid_result = grid.fit(X, Y)\n",
    "\n",
    "# summarize results\n",
    "print(\"Best: %f using %s\" % (grid_result.best_score_, grid_result.best_params_))\n",
    "means = grid_result.cv_results_['mean_test_score']\n",
    "stds = grid_result.cv_results_['std_test_score']\n",
    "params = grid_result.cv_results_['params']\n",
    "for mean, stdev, param in zip(means, stds, params):\n",
    "    print(\"%f (%f) with: %r\" % (mean, stdev, param))"
   ]
  },
  {
   "cell_type": "raw",
   "metadata": {
    "deletable": true,
    "editable": true
   },
   "source": [
    "1.000 Samples\n",
    "=============\n",
    "\n",
    "0.752000 (0.042615) with: {'epochs': 5, 'optimizer': 'SGD', 'batch_size': 10}\n",
    "0.863000 (0.017349) with: {'epochs': 5, 'optimizer': 'Adagrad', 'batch_size': 10}\n",
    "0.859000 (0.025080) with: {'epochs': 5, 'optimizer': 'Adam', 'batch_size': 10}\n",
    "0.863000 (0.025710) with: {'epochs': 5, 'optimizer': 'Nadam', 'batch_size': 10}\n",
    "0.854000 (0.015620) with: {'epochs': 15, 'optimizer': 'SGD', 'batch_size': 10}\n",
    "0.892000 (0.027495) with: {'epochs': 15, 'optimizer': 'Adagrad', 'batch_size': 10}\n",
    "0.871000 (0.025080) with: {'epochs': 15, 'optimizer': 'Adam', 'batch_size': 10}\n",
    "0.869000 (0.018682) with: {'epochs': 15, 'optimizer': 'Nadam', 'batch_size': 10}\n",
    "0.576000 (0.061351) with: {'epochs': 5, 'optimizer': 'SGD', 'batch_size': 20}\n",
    "0.865000 (0.027295) with: {'epochs': 5, 'optimizer': 'Adagrad', 'batch_size': 20}\n",
    "0.861000 (0.012207) with: {'epochs': 5, 'optimizer': 'Adam', 'batch_size': 20}\n",
    "0.869000 (0.029479) with: {'epochs': 5, 'optimizer': 'Nadam', 'batch_size': 20}\n",
    "0.832000 (0.022716) with: {'epochs': 15, 'optimizer': 'SGD', 'batch_size': 20}\n",
    "0.875000 (0.025000) with: {'epochs': 15, 'optimizer': 'Adagrad', 'batch_size': 20}\n",
    "0.886000 (0.028355) with: {'epochs': 15, 'optimizer': 'Adam', 'batch_size': 20}\n",
    "0.880000 (0.031623) with: {'epochs': 15, 'optimizer': 'Nadam', 'batch_size': 20}\n",
    "\n",
    "0.857000 (0.043600) with: {'epochs': 5, 'optimizer': 'RMSprop', 'batch_size': 10}\n",
    "0.843000 (0.012689) with: {'epochs': 5, 'optimizer': 'Adadelta', 'batch_size': 10}\n",
    "0.849000 (0.013748) with: {'epochs': 5, 'optimizer': 'Adamax', 'batch_size': 10}\n",
    "0.882000 (0.033106) with: {'epochs': 15, 'optimizer': 'RMSprop', 'batch_size': 10}\n",
    "0.871000 (0.025865) with: {'epochs': 15, 'optimizer': 'Adadelta', 'batch_size': 10}\n",
    "0.874000 (0.025768) with: {'epochs': 15, 'optimizer': 'Adamax', 'batch_size': 10}\n",
    "0.851000 (0.037000) with: {'epochs': 5, 'optimizer': 'RMSprop', 'batch_size': 20}\n",
    "0.850000 (0.034928) with: {'epochs': 5, 'optimizer': 'Adadelta', 'batch_size': 20}\n",
    "0.849000 (0.030806) with: {'epochs': 5, 'optimizer': 'Adamax', 'batch_size': 20}\n",
    "0.867000 (0.024515) with: {'epochs': 15, 'optimizer': 'RMSprop', 'batch_size': 20}\n",
    "0.866000 (0.018000) with: {'epochs': 15, 'optimizer': 'Adadelta', 'batch_size': 20}\n",
    "0.880000 (0.018974) with: {'epochs': 15, 'optimizer': 'Adamax', 'batch_size': 20}\n",
    "\n",
    "5.000 Samples\n",
    "=============\n",
    "\n",
    "0.896000 (0.009716) with: {'epochs': 5, 'optimizer': 'SGD', 'batch_size': 10}\n",
    "0.933000 (0.008683) with: {'epochs': 5, 'optimizer': 'Adagrad', 'batch_size': 10}\n",
    "0.928800 (0.009806) with: {'epochs': 5, 'optimizer': 'Adam', 'batch_size': 10}\n",
    "0.923000 (0.016858) with: {'epochs': 5, 'optimizer': 'Nadam', 'batch_size': 10}\n",
    "0.920200 (0.015032) with: {'epochs': 15, 'optimizer': 'SGD', 'batch_size': 10}\n",
    "0.938800 (0.012937) with: {'epochs': 15, 'optimizer': 'Adagrad', 'batch_size': 10}\n",
    "0.941000 (0.007603) with: {'epochs': 15, 'optimizer': 'Adam', 'batch_size': 10}\n",
    "0.930800 (0.009130) with: {'epochs': 15, 'optimizer': 'Nadam', 'batch_size': 10}\n",
    "0.874400 (0.015068) with: {'epochs': 5, 'optimizer': 'SGD', 'batch_size': 20}\n",
    "0.927200 (0.010628) with: {'epochs': 5, 'optimizer': 'Adagrad', 'batch_size': 20}\n",
    "0.933600 (0.009156) with: {'epochs': 5, 'optimizer': 'Adam', 'batch_size': 20}\n",
    "0.932200 (0.009610) with: {'epochs': 5, 'optimizer': 'Nadam', 'batch_size': 20}\n",
    "0.910800 (0.012139) with: {'epochs': 15, 'optimizer': 'SGD', 'batch_size': 20}\n",
    "0.940600 (0.007645) with: {'epochs': 15, 'optimizer': 'Adagrad', 'batch_size': 20}\n",
    "0.937800 (0.008506) with: {'epochs': 15, 'optimizer': 'Adam', 'batch_size': 20}\n",
    "0.936800 (0.009261) with: {'epochs': 15, 'optimizer': 'Nadam', 'batch_size': 20}\n",
    "\n",
    "0.930400 (0.011377) with: {'epochs': 5, 'optimizer': 'RMSprop', 'batch_size': 10}\n",
    "0.911000 (0.013921) with: {'epochs': 5, 'optimizer': 'Adadelta', 'batch_size': 10}\n",
    "0.921800 (0.009271) with: {'epochs': 5, 'optimizer': 'Adamax', 'batch_size': 10}\n",
    "0.944400 (0.008890) with: {'epochs': 15, 'optimizer': 'RMSprop', 'batch_size': 10}\n",
    "0.933800 (0.010898) with: {'epochs': 15, 'optimizer': 'Adadelta', 'batch_size': 10}\n",
    "0.941600 (0.011552) with: {'epochs': 15, 'optimizer': 'Adamax', 'batch_size': 10}\n",
    "0.928200 (0.012147) with: {'epochs': 5, 'optimizer': 'RMSprop', 'batch_size': 20}\n",
    "0.909600 (0.010500) with: {'epochs': 5, 'optimizer': 'Adadelta', 'batch_size': 20}\n",
    "0.920200 (0.010371) with: {'epochs': 5, 'optimizer': 'Adamax', 'batch_size': 20}\n",
    "0.937000 (0.010440) with: {'epochs': 15, 'optimizer': 'RMSprop', 'batch_size': 20}\n",
    "0.932600 (0.008857) with: {'epochs': 15, 'optimizer': 'Adadelta', 'batch_size': 20}\n",
    "0.940600 (0.010042) with: {'epochs': 15, 'optimizer': 'Adamax', 'batch_size': 20}"
   ]
  }
 ],
 "metadata": {
  "kernelspec": {
   "display_name": "Python 2",
   "language": "python",
   "name": "python2"
  },
  "language_info": {
   "codemirror_mode": {
    "name": "ipython",
    "version": 2
   },
   "file_extension": ".py",
   "mimetype": "text/x-python",
   "name": "python",
   "nbconvert_exporter": "python",
   "pygments_lexer": "ipython2",
   "version": "2.7.12"
  }
 },
 "nbformat": 4,
 "nbformat_minor": 2
}
