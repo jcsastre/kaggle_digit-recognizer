{
 "cells": [
  {
   "cell_type": "code",
   "execution_count": 1,
   "metadata": {
    "collapsed": true,
    "deletable": true,
    "editable": true
   },
   "outputs": [],
   "source": [
    "import pandas as pd\n",
    "from sklearn.model_selection import train_test_split\n",
    "import matplotlib.pyplot as plt\n",
    "%matplotlib inline\n",
    "import tensorflow as tf\n",
    "import tflearn\n",
    "from tflearn.layers.core import input_data, dropout, fully_connected\n",
    "from tflearn.layers.conv import conv_2d, max_pool_2d\n",
    "from tflearn.layers.normalization import local_response_normalization\n",
    "from tflearn.layers.estimator import regression\n",
    "from tflearn.data_utils import shuffle, to_categorical\n",
    "import numpy as np"
   ]
  },
  {
   "cell_type": "code",
   "execution_count": 2,
   "metadata": {
    "collapsed": false,
    "deletable": true,
    "editable": true
   },
   "outputs": [
    {
     "data": {
      "text/plain": [
       "(42000, 785)"
      ]
     },
     "execution_count": 2,
     "metadata": {},
     "output_type": "execute_result"
    }
   ],
   "source": [
    "# Load kaggle train data\n",
    "train = (pd.read_csv('./input/train.csv')).astype('float32')\n",
    "train.shape"
   ]
  },
  {
   "cell_type": "code",
   "execution_count": 3,
   "metadata": {
    "collapsed": false,
    "deletable": true,
    "editable": true
   },
   "outputs": [
    {
     "name": "stdout",
     "output_type": "stream",
     "text": [
      "(42000, 784)\n",
      "(42000,)\n"
     ]
    }
   ],
   "source": [
    "# extract X, y kaggle train data\n",
    "X, Y = train.drop('label', axis=1).values, train['label'].values\n",
    "\n",
    "print X.shape\n",
    "print Y.shape"
   ]
  },
  {
   "cell_type": "code",
   "execution_count": 4,
   "metadata": {
    "collapsed": false,
    "deletable": true,
    "editable": true
   },
   "outputs": [
    {
     "name": "stdout",
     "output_type": "stream",
     "text": [
      "X shape: (35700, 784)\n",
      "X_test shape: (6300, 784)\n",
      "Y shape: (35700,)\n",
      "Y_test shape: (6300,)\n"
     ]
    }
   ],
   "source": [
    "X, X_test, Y, Y_test = train_test_split(\n",
    "    X,\n",
    "    Y,\n",
    "    test_size=0.15,\n",
    "    random_state=42,\n",
    "    stratify=train[train.columns[0]].values, # to preserve initial class balance\n",
    ")\n",
    "\n",
    "print \"X shape:\", X.shape\n",
    "print \"X_test shape:\", X_test.shape\n",
    "print \"Y shape:\", Y.shape\n",
    "print \"Y_test shape:\", Y_test.shape"
   ]
  },
  {
   "cell_type": "code",
   "execution_count": 5,
   "metadata": {
    "collapsed": true
   },
   "outputs": [],
   "source": [
    "# Normalization\n",
    "X = X / 255\n",
    "X_test = X_test / 255"
   ]
  },
  {
   "cell_type": "code",
   "execution_count": 6,
   "metadata": {
    "collapsed": false,
    "deletable": true,
    "editable": true
   },
   "outputs": [
    {
     "name": "stdout",
     "output_type": "stream",
     "text": [
      "X shape: (35700, 28, 28, 1)\n",
      "X_test shape: (6300, 28, 28, 1)\n",
      "Y shape: (35700, 10)\n",
      "Y_test shape: (6300, 10)\n"
     ]
    }
   ],
   "source": [
    "X = X.reshape([-1, 28, 28, 1])\n",
    "X_test = X_test.reshape([-1, 28, 28, 1])\n",
    "Y = to_categorical(Y, 10)\n",
    "Y_test = to_categorical(Y_test, 10)\n",
    "\n",
    "print \"X shape:\", X.shape\n",
    "print \"X_test shape:\", X_test.shape\n",
    "print \"Y shape:\", Y.shape\n",
    "print \"Y_test shape:\", Y_test.shape"
   ]
  },
  {
   "cell_type": "markdown",
   "metadata": {
    "deletable": true,
    "editable": true
   },
   "source": [
    "## Train"
   ]
  },
  {
   "cell_type": "code",
   "execution_count": 8,
   "metadata": {
    "collapsed": false,
    "deletable": true,
    "editable": true
   },
   "outputs": [
    {
     "name": "stdout",
     "output_type": "stream",
     "text": [
      "Training Step: 5579  | total loss: \u001b[1m\u001b[32m0.14418\u001b[0m\u001b[0m | time: 26.690s\n",
      "| Adam | epoch: 010 | loss: 0.14418 - acc: 0.9817 -- iter: 35648/35700\n",
      "Training Step: 5580  | total loss: \u001b[1m\u001b[32m0.13183\u001b[0m\u001b[0m | time: 27.776s\n",
      "| Adam | epoch: 010 | loss: 0.13183 - acc: 0.9821 | val_loss: 0.04915 - val_acc: 0.9852 -- iter: 35700/35700\n",
      "--\n"
     ]
    }
   ],
   "source": [
    "OPTIMIZER = 'Adam'\n",
    "LEARNING_RATE = 0.0001\n",
    "N_EPOCH = 10\n",
    "\n",
    "RUN_ID = 'Train Adam, 0.0001, n10'\n",
    "\n",
    "network = input_data(shape=[None, 28, 28, 1], name='input')\n",
    "\n",
    "network = conv_2d(network, 32, 3, activation='relu', regularizer=\"L2\")\n",
    "network = max_pool_2d(network, 2)\n",
    "network = local_response_normalization(network)\n",
    "\n",
    "network = conv_2d(network, 64, 3, activation='relu', regularizer=\"L2\")\n",
    "network = max_pool_2d(network, 2)\n",
    "network = local_response_normalization(network)\n",
    "\n",
    "network = fully_connected(network, 128, activation='tanh')\n",
    "network = dropout(network, 0.8)\n",
    "\n",
    "network = fully_connected(network, 256, activation='tanh')\n",
    "network = dropout(network, 0.8)\n",
    "\n",
    "network = fully_connected(network, 10, activation='softmax')\n",
    "\n",
    "network = regression(\n",
    "    network, \n",
    "    optimizer=OPTIMIZER, \n",
    "    learning_rate=LEARNING_RATE, \n",
    "    loss='categorical_crossentropy', \n",
    "    name='target'\n",
    ")\n",
    "\n",
    "model = tflearn.DNN(network, tensorboard_verbose=3)\n",
    "model.fit(\n",
    "    {'input': X}, {'target': Y},\n",
    "    n_epoch=N_EPOCH,\n",
    "    validation_set=({'input': X_test}, {'target': Y_test}),\n",
    "    snapshot_step=100, \n",
    "    show_metric=True,\n",
    "    run_id=RUN_ID\n",
    ")"
   ]
  },
  {
   "cell_type": "markdown",
   "metadata": {
    "collapsed": true,
    "deletable": true,
    "editable": true
   },
   "source": [
    "## Predict"
   ]
  },
  {
   "cell_type": "code",
   "execution_count": 9,
   "metadata": {
    "collapsed": false
   },
   "outputs": [
    {
     "name": "stdout",
     "output_type": "stream",
     "text": [
      "(28000, 784)\n"
     ]
    }
   ],
   "source": [
    "X_submission = (pd.read_csv('./input/test.csv').values).astype('float32')\n",
    "X_submission = X_submission / 255 # Normalization\n",
    "\n",
    "print X_submission.shape"
   ]
  },
  {
   "cell_type": "code",
   "execution_count": 10,
   "metadata": {
    "collapsed": false,
    "deletable": true,
    "editable": true
   },
   "outputs": [
    {
     "name": "stdout",
     "output_type": "stream",
     "text": [
      "(28000, 28, 28, 1)\n"
     ]
    }
   ],
   "source": [
    "X_submission = X_submission.reshape([-1, 28, 28, 1])\n",
    "\n",
    "print X_submission.shape"
   ]
  },
  {
   "cell_type": "code",
   "execution_count": 11,
   "metadata": {
    "collapsed": false,
    "deletable": true,
    "editable": true
   },
   "outputs": [
    {
     "name": "stdout",
     "output_type": "stream",
     "text": [
      "2\n",
      "0\n",
      "9\n",
      "9\n",
      "3\n"
     ]
    }
   ],
   "source": [
    "Y_predict = model.predict(X_submission)\n",
    "Y_predict = np.argmax(Y_predict,axis=1)\n",
    "print Y_predict[0]\n",
    "print Y_predict[1]\n",
    "print Y_predict[2]\n",
    "print Y_predict[3]\n",
    "print Y_predict[4]"
   ]
  },
  {
   "cell_type": "code",
   "execution_count": 12,
   "metadata": {
    "collapsed": false,
    "deletable": true,
    "editable": true
   },
   "outputs": [],
   "source": [
    "submission=pd.DataFrame({\"ImageId\": list(range(1,len(Y_predict)+1)), \"Label\": Y_predict})\n",
    "submission.to_csv(\"./submissions/submission_ccn_tflearn_lr_0_001_nepoch_10_normalization.csv\", index=False, header=True)"
   ]
  },
  {
   "cell_type": "code",
   "execution_count": null,
   "metadata": {
    "collapsed": true,
    "deletable": true,
    "editable": true
   },
   "outputs": [],
   "source": []
  }
 ],
 "metadata": {
  "kernelspec": {
   "display_name": "Python 2",
   "language": "python",
   "name": "python2"
  },
  "language_info": {
   "codemirror_mode": {
    "name": "ipython",
    "version": 2
   },
   "file_extension": ".py",
   "mimetype": "text/x-python",
   "name": "python",
   "nbconvert_exporter": "python",
   "pygments_lexer": "ipython2",
   "version": "2.7.12"
  }
 },
 "nbformat": 4,
 "nbformat_minor": 2
}
